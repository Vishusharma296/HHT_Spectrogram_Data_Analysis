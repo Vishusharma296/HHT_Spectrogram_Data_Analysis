{
 "cells": [
  {
   "cell_type": "code",
   "execution_count": 1,
   "id": "9b9f6ee3",
   "metadata": {},
   "outputs": [],
   "source": [
    "# importing Libraries\n",
    "\n",
    "%matplotlib inline\n",
    "\n",
    "import math\n",
    "import numpy as np\n",
    "import pandas as pd\n",
    "from matplotlib import pyplot as plt"
   ]
  },
  {
   "cell_type": "code",
   "execution_count": 2,
   "id": "9f04f851",
   "metadata": {},
   "outputs": [],
   "source": [
    "# Creating dataframes, defining sampling rate and other important parameters\n",
    "\n",
    "df_EOC = pd.read_csv('data.comp4.sensgroup1_EOC data.csv')"
   ]
  },
  {
   "cell_type": "code",
   "execution_count": 3,
   "id": "7b637569",
   "metadata": {},
   "outputs": [
    {
     "name": "stdout",
     "output_type": "stream",
     "text": [
      "   EOC_var1  EOC_var2  EOC_var3  EOC_var4  EOC_var5  EOC_var6  EOC_var7  \\\n",
      "0         6     24.70     298.0      10.8    1303.0      30.5      30.7   \n",
      "1         6     24.70     298.0      10.8    1303.0      30.5      30.4   \n",
      "2         6     22.16     298.0      10.7    1283.5      30.2      30.4   \n",
      "3         6     22.16     298.0      10.7    1283.5      30.2      30.1   \n",
      "4         6     28.37     298.0      10.7    1309.6      30.1      30.1   \n",
      "5         6     28.81     298.0      10.7    1309.6      30.1      30.6   \n",
      "6         6     28.81     298.0      11.3    1361.9      30.5      30.6   \n",
      "7         6     30.58     298.0      11.3    1361.9      31.0      30.6   \n",
      "8         6     28.93     298.0      11.4    1361.9      31.0      31.1   \n",
      "9         6     28.93     298.0      11.4    1374.6      31.1      31.1   \n",
      "\n",
      "   EOC_var8  EOC_var9  EOC_var10  EOC_var11  EOC_var12  EOC_var13  \n",
      "0      30.8      30.5        197       2497        250       2563  \n",
      "1      30.5      30.5        196       2477        250       2563  \n",
      "2      30.5      30.4        196       2477        250       2561  \n",
      "3      30.2      30.4        196       2477        252       2561  \n",
      "4      30.2      30.1        196       2567        254       2561  \n",
      "5      30.6      30.1        196       2514        260       2559  \n",
      "6      30.6      30.5        196       2514        260       2559  \n",
      "7      30.7      30.5        196       2652        261       2558  \n",
      "8      30.7      30.5        196       2652        261       2553  \n",
      "9      31.1      30.5        196       2652        261       2553  \n"
     ]
    }
   ],
   "source": [
    "print(df_EOC.head(10))"
   ]
  },
  {
   "cell_type": "code",
   "execution_count": 4,
   "id": "cfaf8ec2",
   "metadata": {},
   "outputs": [
    {
     "data": {
      "text/html": [
       "<div>\n",
       "<style scoped>\n",
       "    .dataframe tbody tr th:only-of-type {\n",
       "        vertical-align: middle;\n",
       "    }\n",
       "\n",
       "    .dataframe tbody tr th {\n",
       "        vertical-align: top;\n",
       "    }\n",
       "\n",
       "    .dataframe thead th {\n",
       "        text-align: right;\n",
       "    }\n",
       "</style>\n",
       "<table border=\"1\" class=\"dataframe\">\n",
       "  <thead>\n",
       "    <tr style=\"text-align: right;\">\n",
       "      <th></th>\n",
       "      <th>EOC_var1</th>\n",
       "      <th>EOC_var2</th>\n",
       "      <th>EOC_var3</th>\n",
       "      <th>EOC_var4</th>\n",
       "      <th>EOC_var5</th>\n",
       "      <th>EOC_var6</th>\n",
       "      <th>EOC_var7</th>\n",
       "      <th>EOC_var8</th>\n",
       "      <th>EOC_var9</th>\n",
       "      <th>EOC_var10</th>\n",
       "      <th>EOC_var11</th>\n",
       "      <th>EOC_var12</th>\n",
       "      <th>EOC_var13</th>\n",
       "    </tr>\n",
       "  </thead>\n",
       "  <tbody>\n",
       "    <tr>\n",
       "      <th>count</th>\n",
       "      <td>600.000000</td>\n",
       "      <td>600.000000</td>\n",
       "      <td>600.000000</td>\n",
       "      <td>600.000000</td>\n",
       "      <td>600.000000</td>\n",
       "      <td>600.000000</td>\n",
       "      <td>600.000000</td>\n",
       "      <td>600.000000</td>\n",
       "      <td>600.000000</td>\n",
       "      <td>600.000000</td>\n",
       "      <td>600.000000</td>\n",
       "      <td>600.000000</td>\n",
       "      <td>600.000000</td>\n",
       "    </tr>\n",
       "    <tr>\n",
       "      <th>mean</th>\n",
       "      <td>5.126667</td>\n",
       "      <td>24.055233</td>\n",
       "      <td>308.605167</td>\n",
       "      <td>11.643500</td>\n",
       "      <td>1389.238500</td>\n",
       "      <td>27.037333</td>\n",
       "      <td>27.044167</td>\n",
       "      <td>27.082500</td>\n",
       "      <td>27.036500</td>\n",
       "      <td>201.230000</td>\n",
       "      <td>2762.781667</td>\n",
       "      <td>264.058333</td>\n",
       "      <td>2770.366667</td>\n",
       "    </tr>\n",
       "    <tr>\n",
       "      <th>std</th>\n",
       "      <td>0.332877</td>\n",
       "      <td>2.735083</td>\n",
       "      <td>5.777097</td>\n",
       "      <td>1.469464</td>\n",
       "      <td>175.346842</td>\n",
       "      <td>5.490183</td>\n",
       "      <td>5.507403</td>\n",
       "      <td>5.490044</td>\n",
       "      <td>5.474733</td>\n",
       "      <td>7.612513</td>\n",
       "      <td>668.960840</td>\n",
       "      <td>102.867737</td>\n",
       "      <td>663.378163</td>\n",
       "    </tr>\n",
       "    <tr>\n",
       "      <th>min</th>\n",
       "      <td>5.000000</td>\n",
       "      <td>17.610000</td>\n",
       "      <td>298.000000</td>\n",
       "      <td>8.000000</td>\n",
       "      <td>958.100000</td>\n",
       "      <td>20.300000</td>\n",
       "      <td>20.400000</td>\n",
       "      <td>20.400000</td>\n",
       "      <td>20.300000</td>\n",
       "      <td>190.000000</td>\n",
       "      <td>1337.000000</td>\n",
       "      <td>58.000000</td>\n",
       "      <td>1518.000000</td>\n",
       "    </tr>\n",
       "    <tr>\n",
       "      <th>25%</th>\n",
       "      <td>5.000000</td>\n",
       "      <td>22.332500</td>\n",
       "      <td>306.500000</td>\n",
       "      <td>10.800000</td>\n",
       "      <td>1302.000000</td>\n",
       "      <td>22.800000</td>\n",
       "      <td>22.800000</td>\n",
       "      <td>22.800000</td>\n",
       "      <td>22.800000</td>\n",
       "      <td>195.000000</td>\n",
       "      <td>2444.500000</td>\n",
       "      <td>170.750000</td>\n",
       "      <td>2428.000000</td>\n",
       "    </tr>\n",
       "    <tr>\n",
       "      <th>50%</th>\n",
       "      <td>5.000000</td>\n",
       "      <td>23.790000</td>\n",
       "      <td>311.000000</td>\n",
       "      <td>12.000000</td>\n",
       "      <td>1435.900000</td>\n",
       "      <td>25.500000</td>\n",
       "      <td>25.400000</td>\n",
       "      <td>25.500000</td>\n",
       "      <td>25.550000</td>\n",
       "      <td>200.000000</td>\n",
       "      <td>2897.000000</td>\n",
       "      <td>252.000000</td>\n",
       "      <td>2887.000000</td>\n",
       "    </tr>\n",
       "    <tr>\n",
       "      <th>75%</th>\n",
       "      <td>5.000000</td>\n",
       "      <td>25.250000</td>\n",
       "      <td>311.100000</td>\n",
       "      <td>12.800000</td>\n",
       "      <td>1515.000000</td>\n",
       "      <td>30.400000</td>\n",
       "      <td>30.400000</td>\n",
       "      <td>30.500000</td>\n",
       "      <td>30.400000</td>\n",
       "      <td>208.000000</td>\n",
       "      <td>3350.000000</td>\n",
       "      <td>382.000000</td>\n",
       "      <td>3416.000000</td>\n",
       "    </tr>\n",
       "    <tr>\n",
       "      <th>max</th>\n",
       "      <td>6.000000</td>\n",
       "      <td>34.350000</td>\n",
       "      <td>315.400000</td>\n",
       "      <td>13.900000</td>\n",
       "      <td>1642.700000</td>\n",
       "      <td>40.900000</td>\n",
       "      <td>41.100000</td>\n",
       "      <td>41.000000</td>\n",
       "      <td>41.000000</td>\n",
       "      <td>220.000000</td>\n",
       "      <td>3672.000000</td>\n",
       "      <td>420.000000</td>\n",
       "      <td>3588.000000</td>\n",
       "    </tr>\n",
       "  </tbody>\n",
       "</table>\n",
       "</div>"
      ],
      "text/plain": [
       "         EOC_var1    EOC_var2    EOC_var3    EOC_var4     EOC_var5  \\\n",
       "count  600.000000  600.000000  600.000000  600.000000   600.000000   \n",
       "mean     5.126667   24.055233  308.605167   11.643500  1389.238500   \n",
       "std      0.332877    2.735083    5.777097    1.469464   175.346842   \n",
       "min      5.000000   17.610000  298.000000    8.000000   958.100000   \n",
       "25%      5.000000   22.332500  306.500000   10.800000  1302.000000   \n",
       "50%      5.000000   23.790000  311.000000   12.000000  1435.900000   \n",
       "75%      5.000000   25.250000  311.100000   12.800000  1515.000000   \n",
       "max      6.000000   34.350000  315.400000   13.900000  1642.700000   \n",
       "\n",
       "         EOC_var6    EOC_var7    EOC_var8    EOC_var9   EOC_var10  \\\n",
       "count  600.000000  600.000000  600.000000  600.000000  600.000000   \n",
       "mean    27.037333   27.044167   27.082500   27.036500  201.230000   \n",
       "std      5.490183    5.507403    5.490044    5.474733    7.612513   \n",
       "min     20.300000   20.400000   20.400000   20.300000  190.000000   \n",
       "25%     22.800000   22.800000   22.800000   22.800000  195.000000   \n",
       "50%     25.500000   25.400000   25.500000   25.550000  200.000000   \n",
       "75%     30.400000   30.400000   30.500000   30.400000  208.000000   \n",
       "max     40.900000   41.100000   41.000000   41.000000  220.000000   \n",
       "\n",
       "         EOC_var11   EOC_var12    EOC_var13  \n",
       "count   600.000000  600.000000   600.000000  \n",
       "mean   2762.781667  264.058333  2770.366667  \n",
       "std     668.960840  102.867737   663.378163  \n",
       "min    1337.000000   58.000000  1518.000000  \n",
       "25%    2444.500000  170.750000  2428.000000  \n",
       "50%    2897.000000  252.000000  2887.000000  \n",
       "75%    3350.000000  382.000000  3416.000000  \n",
       "max    3672.000000  420.000000  3588.000000  "
      ]
     },
     "execution_count": 4,
     "metadata": {},
     "output_type": "execute_result"
    }
   ],
   "source": [
    "df_EOC.describe()"
   ]
  },
  {
   "cell_type": "code",
   "execution_count": 5,
   "id": "e09b3f89",
   "metadata": {},
   "outputs": [],
   "source": [
    "#df_EOC_MS3 = df_EOC['MS num3']\n",
    "#print(df_EOC_MS3)"
   ]
  },
  {
   "cell_type": "code",
   "execution_count": null,
   "id": "5b4276d0",
   "metadata": {},
   "outputs": [],
   "source": [
    "plt.figure(figsize =(600,400))"
   ]
  },
  {
   "cell_type": "code",
   "execution_count": 16,
   "id": "1542c71c",
   "metadata": {},
   "outputs": [
    {
     "data": {
      "text/plain": [
       "<AxesSubplot:>"
      ]
     },
     "execution_count": 16,
     "metadata": {},
     "output_type": "execute_result"
    },
    {
     "data": {
      "image/png": "[encoded data removed]",
      "text/plain": [
       "<Figure size 432x288 with 1 Axes>"
      ]
     },
     "metadata": {
      "needs_background": "light"
     },
     "output_type": "display_data"
    }
   ],
   "source": [
    "df_EOC.plot()\n",
    "\n"
   ]
  },
  {
   "cell_type": "code",
   "execution_count": 17,
   "id": "ab6e3123",
   "metadata": {},
   "outputs": [
    {
     "data": {
      "text/plain": [
       "0      298.0\n",
       "1      298.0\n",
       "2      298.0\n",
       "3      298.0\n",
       "4      298.0\n",
       "       ...  \n",
       "595    306.5\n",
       "596    306.5\n",
       "597    306.4\n",
       "598    306.4\n",
       "599    306.4\n",
       "Name: EOC_var3, Length: 600, dtype: float64"
      ]
     },
     "execution_count": 17,
     "metadata": {},
     "output_type": "execute_result"
    }
   ],
   "source": [
    "df_EOC.EOC_var3"
   ]
  },
  {
   "cell_type": "code",
   "execution_count": 20,
   "id": "43734aae",
   "metadata": {},
   "outputs": [],
   "source": [
    "fs = 1\n",
    "N = 600\n",
    "time = time = np.arange(N) / float(fs)\n"
   ]
  },
  {
   "cell_type": "code",
   "execution_count": 23,
   "id": "11e4ce05",
   "metadata": {},
   "outputs": [],
   "source": [
    "from scipy.fft import fft, ifft\n",
    "from scipy import signalb "
   ]
  },
  {
   "cell_type": "code",
   "execution_count": 24,
   "id": "0dc9ef31",
   "metadata": {},
   "outputs": [],
   "source": [
    "Y1 = fft(df_EOC.EOC_var13)"
   ]
  },
  {
   "cell_type": "code",
   "execution_count": 25,
   "id": "6f34eba8",
   "metadata": {},
   "outputs": [
    {
     "name": "stderr",
     "output_type": "stream",
     "text": [
      "C:\\Users\\vishu\\anaconda3_2022\\lib\\site-packages\\scipy\\signal\\spectral.py:1816: UserWarning: Input data is complex, switching to return_onesided=False\n",
      "  warnings.warn('Input data is complex, switching to '\n"
     ]
    },
    {
     "data": {
      "image/png": "[encoded data removed]",
      "text/plain": [
       "<Figure size 432x288 with 1 Axes>"
      ]
     },
     "metadata": {
      "needs_background": "light"
     },
     "output_type": "display_data"
    }
   ],
   "source": [
    "f, t, Sxx = signal.spectrogram(Y1, fs)\n",
    "\n",
    "plt.pcolormesh(t, f, Sxx, shading ='gouraud')\n",
    "plt.ylabel('Frequency [Hz]')\n",
    "plt.xlabel('Time [sec]')\n",
    "\n",
    "plt.show()"
   ]
  },
  {
   "cell_type": "code",
   "execution_count": null,
   "id": "36fb5308",
   "metadata": {},
   "outputs": [],
   "source": []
  }
 ],
 "metadata": {
  "kernelspec": {
   "display_name": "Python 3 (ipykernel)",
   "language": "python",
   "name": "python3"
  },
  "language_info": {
   "codemirror_mode": {
    "name": "ipython",
    "version": 3
   },
   "file_extension": ".py",
   "mimetype": "text/x-python",
   "name": "python",
   "nbconvert_exporter": "python",
   "pygments_lexer": "ipython3",
   "version": "3.9.12"
  }
 },
 "nbformat": 4,
 "nbformat_minor": 5
}
